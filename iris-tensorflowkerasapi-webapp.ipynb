{
 "cells": [
  {
   "cell_type": "code",
   "execution_count": 1,
   "metadata": {
    "_cell_guid": "b1076dfc-b9ad-4769-8c92-a6c4dae69d19",
    "_uuid": "8f2839f25d086af736a60e9eeb907d3b93b6e0e5"
   },
   "outputs": [
    {
     "name": "stdout",
     "output_type": "stream",
     "text": [
      "/kaggle/input/iris/database.sqlite\n",
      "/kaggle/input/iris/Iris.csv\n"
     ]
    }
   ],
   "source": [
    "# This Python 3 environment comes with many helpful analytics libraries installed\n",
    "# It is defined by the kaggle/python docker image: https://github.com/kaggle/docker-python\n",
    "# For example, here's several helpful packages to load in \n",
    "\n",
    "import numpy as np # linear algebra\n",
    "import pandas as pd # data processing, CSV file I/O (e.g. pd.read_csv)\n",
    "\n",
    "# Input data files are available in the \"../input/\" directory.\n",
    "# For example, running this (by clicking run or pressing Shift+Enter) will list all files under the input directory\n",
    "\n",
    "import os\n",
    "for dirname, _, filenames in os.walk('/kaggle/input'):\n",
    "    for filename in filenames:\n",
    "        print(os.path.join(dirname, filename))\n",
    "\n",
    "# Any results you write to the current directory are saved as output."
   ]
  },
  {
   "cell_type": "markdown",
   "metadata": {},
   "source": [
    "# Importing the Libraries"
   ]
  },
  {
   "cell_type": "code",
   "execution_count": 2,
   "metadata": {
    "_cell_guid": "79c7e3d0-c299-4dcb-8224-4455121ee9b0",
    "_uuid": "d629ff2d2480ee46fbb7e2d37f6b5fab8052498a"
   },
   "outputs": [],
   "source": [
    "import pandas as pd\n",
    "import numpy as np\n",
    "import seaborn as sns"
   ]
  },
  {
   "cell_type": "markdown",
   "metadata": {},
   "source": [
    "# Reading in our Data\n"
   ]
  },
  {
   "cell_type": "code",
   "execution_count": 3,
   "metadata": {},
   "outputs": [
    {
     "data": {
      "text/html": [
       "<div>\n",
       "<style scoped>\n",
       "    .dataframe tbody tr th:only-of-type {\n",
       "        vertical-align: middle;\n",
       "    }\n",
       "\n",
       "    .dataframe tbody tr th {\n",
       "        vertical-align: top;\n",
       "    }\n",
       "\n",
       "    .dataframe thead th {\n",
       "        text-align: right;\n",
       "    }\n",
       "</style>\n",
       "<table border=\"1\" class=\"dataframe\">\n",
       "  <thead>\n",
       "    <tr style=\"text-align: right;\">\n",
       "      <th></th>\n",
       "      <th>Id</th>\n",
       "      <th>SepalLengthCm</th>\n",
       "      <th>SepalWidthCm</th>\n",
       "      <th>PetalLengthCm</th>\n",
       "      <th>PetalWidthCm</th>\n",
       "      <th>Species</th>\n",
       "    </tr>\n",
       "  </thead>\n",
       "  <tbody>\n",
       "    <tr>\n",
       "      <th>0</th>\n",
       "      <td>1</td>\n",
       "      <td>5.1</td>\n",
       "      <td>3.5</td>\n",
       "      <td>1.4</td>\n",
       "      <td>0.2</td>\n",
       "      <td>Iris-setosa</td>\n",
       "    </tr>\n",
       "    <tr>\n",
       "      <th>1</th>\n",
       "      <td>2</td>\n",
       "      <td>4.9</td>\n",
       "      <td>3.0</td>\n",
       "      <td>1.4</td>\n",
       "      <td>0.2</td>\n",
       "      <td>Iris-setosa</td>\n",
       "    </tr>\n",
       "    <tr>\n",
       "      <th>2</th>\n",
       "      <td>3</td>\n",
       "      <td>4.7</td>\n",
       "      <td>3.2</td>\n",
       "      <td>1.3</td>\n",
       "      <td>0.2</td>\n",
       "      <td>Iris-setosa</td>\n",
       "    </tr>\n",
       "    <tr>\n",
       "      <th>3</th>\n",
       "      <td>4</td>\n",
       "      <td>4.6</td>\n",
       "      <td>3.1</td>\n",
       "      <td>1.5</td>\n",
       "      <td>0.2</td>\n",
       "      <td>Iris-setosa</td>\n",
       "    </tr>\n",
       "    <tr>\n",
       "      <th>4</th>\n",
       "      <td>5</td>\n",
       "      <td>5.0</td>\n",
       "      <td>3.6</td>\n",
       "      <td>1.4</td>\n",
       "      <td>0.2</td>\n",
       "      <td>Iris-setosa</td>\n",
       "    </tr>\n",
       "  </tbody>\n",
       "</table>\n",
       "</div>"
      ],
      "text/plain": [
       "   Id  SepalLengthCm  SepalWidthCm  PetalLengthCm  PetalWidthCm      Species\n",
       "0   1            5.1           3.5            1.4           0.2  Iris-setosa\n",
       "1   2            4.9           3.0            1.4           0.2  Iris-setosa\n",
       "2   3            4.7           3.2            1.3           0.2  Iris-setosa\n",
       "3   4            4.6           3.1            1.5           0.2  Iris-setosa\n",
       "4   5            5.0           3.6            1.4           0.2  Iris-setosa"
      ]
     },
     "execution_count": 3,
     "metadata": {},
     "output_type": "execute_result"
    }
   ],
   "source": [
    "df = pd.read_csv(\"/kaggle/input/iris/Iris.csv\")\n",
    "df.head()"
   ]
  },
  {
   "cell_type": "code",
   "execution_count": 4,
   "metadata": {},
   "outputs": [
    {
     "data": {
      "text/html": [
       "<div>\n",
       "<style scoped>\n",
       "    .dataframe tbody tr th:only-of-type {\n",
       "        vertical-align: middle;\n",
       "    }\n",
       "\n",
       "    .dataframe tbody tr th {\n",
       "        vertical-align: top;\n",
       "    }\n",
       "\n",
       "    .dataframe thead th {\n",
       "        text-align: right;\n",
       "    }\n",
       "</style>\n",
       "<table border=\"1\" class=\"dataframe\">\n",
       "  <thead>\n",
       "    <tr style=\"text-align: right;\">\n",
       "      <th></th>\n",
       "      <th>Id</th>\n",
       "      <th>SepalLengthCm</th>\n",
       "      <th>SepalWidthCm</th>\n",
       "      <th>PetalLengthCm</th>\n",
       "      <th>PetalWidthCm</th>\n",
       "      <th>Species</th>\n",
       "    </tr>\n",
       "  </thead>\n",
       "  <tbody>\n",
       "    <tr>\n",
       "      <th>145</th>\n",
       "      <td>146</td>\n",
       "      <td>6.7</td>\n",
       "      <td>3.0</td>\n",
       "      <td>5.2</td>\n",
       "      <td>2.3</td>\n",
       "      <td>Iris-virginica</td>\n",
       "    </tr>\n",
       "    <tr>\n",
       "      <th>146</th>\n",
       "      <td>147</td>\n",
       "      <td>6.3</td>\n",
       "      <td>2.5</td>\n",
       "      <td>5.0</td>\n",
       "      <td>1.9</td>\n",
       "      <td>Iris-virginica</td>\n",
       "    </tr>\n",
       "    <tr>\n",
       "      <th>147</th>\n",
       "      <td>148</td>\n",
       "      <td>6.5</td>\n",
       "      <td>3.0</td>\n",
       "      <td>5.2</td>\n",
       "      <td>2.0</td>\n",
       "      <td>Iris-virginica</td>\n",
       "    </tr>\n",
       "    <tr>\n",
       "      <th>148</th>\n",
       "      <td>149</td>\n",
       "      <td>6.2</td>\n",
       "      <td>3.4</td>\n",
       "      <td>5.4</td>\n",
       "      <td>2.3</td>\n",
       "      <td>Iris-virginica</td>\n",
       "    </tr>\n",
       "    <tr>\n",
       "      <th>149</th>\n",
       "      <td>150</td>\n",
       "      <td>5.9</td>\n",
       "      <td>3.0</td>\n",
       "      <td>5.1</td>\n",
       "      <td>1.8</td>\n",
       "      <td>Iris-virginica</td>\n",
       "    </tr>\n",
       "  </tbody>\n",
       "</table>\n",
       "</div>"
      ],
      "text/plain": [
       "      Id  SepalLengthCm  SepalWidthCm  PetalLengthCm  PetalWidthCm  \\\n",
       "145  146            6.7           3.0            5.2           2.3   \n",
       "146  147            6.3           2.5            5.0           1.9   \n",
       "147  148            6.5           3.0            5.2           2.0   \n",
       "148  149            6.2           3.4            5.4           2.3   \n",
       "149  150            5.9           3.0            5.1           1.8   \n",
       "\n",
       "            Species  \n",
       "145  Iris-virginica  \n",
       "146  Iris-virginica  \n",
       "147  Iris-virginica  \n",
       "148  Iris-virginica  \n",
       "149  Iris-virginica  "
      ]
     },
     "execution_count": 4,
     "metadata": {},
     "output_type": "execute_result"
    }
   ],
   "source": [
    "df.tail()\n"
   ]
  },
  {
   "cell_type": "markdown",
   "metadata": {},
   "source": [
    "# Data Cleaning\n"
   ]
  },
  {
   "cell_type": "code",
   "execution_count": 5,
   "metadata": {},
   "outputs": [],
   "source": [
    "df.drop(columns=['Id'],inplace=True)\n"
   ]
  },
  {
   "cell_type": "code",
   "execution_count": 6,
   "metadata": {},
   "outputs": [
    {
     "data": {
      "text/html": [
       "<div>\n",
       "<style scoped>\n",
       "    .dataframe tbody tr th:only-of-type {\n",
       "        vertical-align: middle;\n",
       "    }\n",
       "\n",
       "    .dataframe tbody tr th {\n",
       "        vertical-align: top;\n",
       "    }\n",
       "\n",
       "    .dataframe thead th {\n",
       "        text-align: right;\n",
       "    }\n",
       "</style>\n",
       "<table border=\"1\" class=\"dataframe\">\n",
       "  <thead>\n",
       "    <tr style=\"text-align: right;\">\n",
       "      <th></th>\n",
       "      <th>SepalLengthCm</th>\n",
       "      <th>SepalWidthCm</th>\n",
       "      <th>PetalLengthCm</th>\n",
       "      <th>PetalWidthCm</th>\n",
       "      <th>Species</th>\n",
       "    </tr>\n",
       "  </thead>\n",
       "  <tbody>\n",
       "    <tr>\n",
       "      <th>0</th>\n",
       "      <td>5.1</td>\n",
       "      <td>3.5</td>\n",
       "      <td>1.4</td>\n",
       "      <td>0.2</td>\n",
       "      <td>Iris-setosa</td>\n",
       "    </tr>\n",
       "    <tr>\n",
       "      <th>1</th>\n",
       "      <td>4.9</td>\n",
       "      <td>3.0</td>\n",
       "      <td>1.4</td>\n",
       "      <td>0.2</td>\n",
       "      <td>Iris-setosa</td>\n",
       "    </tr>\n",
       "    <tr>\n",
       "      <th>2</th>\n",
       "      <td>4.7</td>\n",
       "      <td>3.2</td>\n",
       "      <td>1.3</td>\n",
       "      <td>0.2</td>\n",
       "      <td>Iris-setosa</td>\n",
       "    </tr>\n",
       "    <tr>\n",
       "      <th>3</th>\n",
       "      <td>4.6</td>\n",
       "      <td>3.1</td>\n",
       "      <td>1.5</td>\n",
       "      <td>0.2</td>\n",
       "      <td>Iris-setosa</td>\n",
       "    </tr>\n",
       "    <tr>\n",
       "      <th>4</th>\n",
       "      <td>5.0</td>\n",
       "      <td>3.6</td>\n",
       "      <td>1.4</td>\n",
       "      <td>0.2</td>\n",
       "      <td>Iris-setosa</td>\n",
       "    </tr>\n",
       "  </tbody>\n",
       "</table>\n",
       "</div>"
      ],
      "text/plain": [
       "   SepalLengthCm  SepalWidthCm  PetalLengthCm  PetalWidthCm      Species\n",
       "0            5.1           3.5            1.4           0.2  Iris-setosa\n",
       "1            4.9           3.0            1.4           0.2  Iris-setosa\n",
       "2            4.7           3.2            1.3           0.2  Iris-setosa\n",
       "3            4.6           3.1            1.5           0.2  Iris-setosa\n",
       "4            5.0           3.6            1.4           0.2  Iris-setosa"
      ]
     },
     "execution_count": 6,
     "metadata": {},
     "output_type": "execute_result"
    }
   ],
   "source": [
    "df.head()\n"
   ]
  },
  {
   "cell_type": "markdown",
   "metadata": {},
   "source": [
    "# Data Analysis"
   ]
  },
  {
   "cell_type": "code",
   "execution_count": 7,
   "metadata": {},
   "outputs": [
    {
     "name": "stdout",
     "output_type": "stream",
     "text": [
      "<class 'pandas.core.frame.DataFrame'>\n",
      "RangeIndex: 150 entries, 0 to 149\n",
      "Data columns (total 5 columns):\n",
      "SepalLengthCm    150 non-null float64\n",
      "SepalWidthCm     150 non-null float64\n",
      "PetalLengthCm    150 non-null float64\n",
      "PetalWidthCm     150 non-null float64\n",
      "Species          150 non-null object\n",
      "dtypes: float64(4), object(1)\n",
      "memory usage: 6.0+ KB\n"
     ]
    }
   ],
   "source": [
    "df.info()\n"
   ]
  },
  {
   "cell_type": "code",
   "execution_count": 8,
   "metadata": {},
   "outputs": [
    {
     "data": {
      "text/html": [
       "<div>\n",
       "<style scoped>\n",
       "    .dataframe tbody tr th:only-of-type {\n",
       "        vertical-align: middle;\n",
       "    }\n",
       "\n",
       "    .dataframe tbody tr th {\n",
       "        vertical-align: top;\n",
       "    }\n",
       "\n",
       "    .dataframe thead th {\n",
       "        text-align: right;\n",
       "    }\n",
       "</style>\n",
       "<table border=\"1\" class=\"dataframe\">\n",
       "  <thead>\n",
       "    <tr style=\"text-align: right;\">\n",
       "      <th></th>\n",
       "      <th>SepalLengthCm</th>\n",
       "      <th>SepalWidthCm</th>\n",
       "      <th>PetalLengthCm</th>\n",
       "      <th>PetalWidthCm</th>\n",
       "    </tr>\n",
       "  </thead>\n",
       "  <tbody>\n",
       "    <tr>\n",
       "      <th>count</th>\n",
       "      <td>150.000000</td>\n",
       "      <td>150.000000</td>\n",
       "      <td>150.000000</td>\n",
       "      <td>150.000000</td>\n",
       "    </tr>\n",
       "    <tr>\n",
       "      <th>mean</th>\n",
       "      <td>5.843333</td>\n",
       "      <td>3.054000</td>\n",
       "      <td>3.758667</td>\n",
       "      <td>1.198667</td>\n",
       "    </tr>\n",
       "    <tr>\n",
       "      <th>std</th>\n",
       "      <td>0.828066</td>\n",
       "      <td>0.433594</td>\n",
       "      <td>1.764420</td>\n",
       "      <td>0.763161</td>\n",
       "    </tr>\n",
       "    <tr>\n",
       "      <th>min</th>\n",
       "      <td>4.300000</td>\n",
       "      <td>2.000000</td>\n",
       "      <td>1.000000</td>\n",
       "      <td>0.100000</td>\n",
       "    </tr>\n",
       "    <tr>\n",
       "      <th>25%</th>\n",
       "      <td>5.100000</td>\n",
       "      <td>2.800000</td>\n",
       "      <td>1.600000</td>\n",
       "      <td>0.300000</td>\n",
       "    </tr>\n",
       "    <tr>\n",
       "      <th>50%</th>\n",
       "      <td>5.800000</td>\n",
       "      <td>3.000000</td>\n",
       "      <td>4.350000</td>\n",
       "      <td>1.300000</td>\n",
       "    </tr>\n",
       "    <tr>\n",
       "      <th>75%</th>\n",
       "      <td>6.400000</td>\n",
       "      <td>3.300000</td>\n",
       "      <td>5.100000</td>\n",
       "      <td>1.800000</td>\n",
       "    </tr>\n",
       "    <tr>\n",
       "      <th>max</th>\n",
       "      <td>7.900000</td>\n",
       "      <td>4.400000</td>\n",
       "      <td>6.900000</td>\n",
       "      <td>2.500000</td>\n",
       "    </tr>\n",
       "  </tbody>\n",
       "</table>\n",
       "</div>"
      ],
      "text/plain": [
       "       SepalLengthCm  SepalWidthCm  PetalLengthCm  PetalWidthCm\n",
       "count     150.000000    150.000000     150.000000    150.000000\n",
       "mean        5.843333      3.054000       3.758667      1.198667\n",
       "std         0.828066      0.433594       1.764420      0.763161\n",
       "min         4.300000      2.000000       1.000000      0.100000\n",
       "25%         5.100000      2.800000       1.600000      0.300000\n",
       "50%         5.800000      3.000000       4.350000      1.300000\n",
       "75%         6.400000      3.300000       5.100000      1.800000\n",
       "max         7.900000      4.400000       6.900000      2.500000"
      ]
     },
     "execution_count": 8,
     "metadata": {},
     "output_type": "execute_result"
    }
   ],
   "source": [
    "df.describe()\n"
   ]
  },
  {
   "cell_type": "code",
   "execution_count": 9,
   "metadata": {},
   "outputs": [
    {
     "data": {
      "text/plain": [
       "array(['Iris-setosa', 'Iris-versicolor', 'Iris-virginica'], dtype=object)"
      ]
     },
     "execution_count": 9,
     "metadata": {},
     "output_type": "execute_result"
    }
   ],
   "source": [
    "df['Species'].unique()\n"
   ]
  },
  {
   "cell_type": "code",
   "execution_count": 10,
   "metadata": {},
   "outputs": [],
   "source": [
    "species_dummies = pd.get_dummies(df.Species)\n",
    "df=pd.concat([df,species_dummies],axis=1)"
   ]
  },
  {
   "cell_type": "code",
   "execution_count": 11,
   "metadata": {},
   "outputs": [
    {
     "data": {
      "text/html": [
       "<div>\n",
       "<style scoped>\n",
       "    .dataframe tbody tr th:only-of-type {\n",
       "        vertical-align: middle;\n",
       "    }\n",
       "\n",
       "    .dataframe tbody tr th {\n",
       "        vertical-align: top;\n",
       "    }\n",
       "\n",
       "    .dataframe thead th {\n",
       "        text-align: right;\n",
       "    }\n",
       "</style>\n",
       "<table border=\"1\" class=\"dataframe\">\n",
       "  <thead>\n",
       "    <tr style=\"text-align: right;\">\n",
       "      <th></th>\n",
       "      <th>SepalLengthCm</th>\n",
       "      <th>SepalWidthCm</th>\n",
       "      <th>PetalLengthCm</th>\n",
       "      <th>PetalWidthCm</th>\n",
       "      <th>Iris-setosa</th>\n",
       "      <th>Iris-versicolor</th>\n",
       "      <th>Iris-virginica</th>\n",
       "    </tr>\n",
       "  </thead>\n",
       "  <tbody>\n",
       "    <tr>\n",
       "      <th>0</th>\n",
       "      <td>5.1</td>\n",
       "      <td>3.5</td>\n",
       "      <td>1.4</td>\n",
       "      <td>0.2</td>\n",
       "      <td>1</td>\n",
       "      <td>0</td>\n",
       "      <td>0</td>\n",
       "    </tr>\n",
       "    <tr>\n",
       "      <th>1</th>\n",
       "      <td>4.9</td>\n",
       "      <td>3.0</td>\n",
       "      <td>1.4</td>\n",
       "      <td>0.2</td>\n",
       "      <td>1</td>\n",
       "      <td>0</td>\n",
       "      <td>0</td>\n",
       "    </tr>\n",
       "    <tr>\n",
       "      <th>2</th>\n",
       "      <td>4.7</td>\n",
       "      <td>3.2</td>\n",
       "      <td>1.3</td>\n",
       "      <td>0.2</td>\n",
       "      <td>1</td>\n",
       "      <td>0</td>\n",
       "      <td>0</td>\n",
       "    </tr>\n",
       "    <tr>\n",
       "      <th>3</th>\n",
       "      <td>4.6</td>\n",
       "      <td>3.1</td>\n",
       "      <td>1.5</td>\n",
       "      <td>0.2</td>\n",
       "      <td>1</td>\n",
       "      <td>0</td>\n",
       "      <td>0</td>\n",
       "    </tr>\n",
       "    <tr>\n",
       "      <th>4</th>\n",
       "      <td>5.0</td>\n",
       "      <td>3.6</td>\n",
       "      <td>1.4</td>\n",
       "      <td>0.2</td>\n",
       "      <td>1</td>\n",
       "      <td>0</td>\n",
       "      <td>0</td>\n",
       "    </tr>\n",
       "  </tbody>\n",
       "</table>\n",
       "</div>"
      ],
      "text/plain": [
       "   SepalLengthCm  SepalWidthCm  PetalLengthCm  PetalWidthCm  Iris-setosa  \\\n",
       "0            5.1           3.5            1.4           0.2            1   \n",
       "1            4.9           3.0            1.4           0.2            1   \n",
       "2            4.7           3.2            1.3           0.2            1   \n",
       "3            4.6           3.1            1.5           0.2            1   \n",
       "4            5.0           3.6            1.4           0.2            1   \n",
       "\n",
       "   Iris-versicolor  Iris-virginica  \n",
       "0                0               0  \n",
       "1                0               0  \n",
       "2                0               0  \n",
       "3                0               0  \n",
       "4                0               0  "
      ]
     },
     "execution_count": 11,
     "metadata": {},
     "output_type": "execute_result"
    }
   ],
   "source": [
    "df.drop(columns='Species',inplace=True)\n",
    "df.head()"
   ]
  },
  {
   "cell_type": "markdown",
   "metadata": {},
   "source": [
    "# Features and labels"
   ]
  },
  {
   "cell_type": "code",
   "execution_count": 12,
   "metadata": {},
   "outputs": [],
   "source": [
    "X =df.iloc[:,:4]\n",
    "y=df.iloc[:,4:]"
   ]
  },
  {
   "cell_type": "code",
   "execution_count": 13,
   "metadata": {},
   "outputs": [
    {
     "data": {
      "text/html": [
       "<div>\n",
       "<style scoped>\n",
       "    .dataframe tbody tr th:only-of-type {\n",
       "        vertical-align: middle;\n",
       "    }\n",
       "\n",
       "    .dataframe tbody tr th {\n",
       "        vertical-align: top;\n",
       "    }\n",
       "\n",
       "    .dataframe thead th {\n",
       "        text-align: right;\n",
       "    }\n",
       "</style>\n",
       "<table border=\"1\" class=\"dataframe\">\n",
       "  <thead>\n",
       "    <tr style=\"text-align: right;\">\n",
       "      <th></th>\n",
       "      <th>SepalLengthCm</th>\n",
       "      <th>SepalWidthCm</th>\n",
       "      <th>PetalLengthCm</th>\n",
       "      <th>PetalWidthCm</th>\n",
       "    </tr>\n",
       "  </thead>\n",
       "  <tbody>\n",
       "    <tr>\n",
       "      <th>0</th>\n",
       "      <td>5.1</td>\n",
       "      <td>3.5</td>\n",
       "      <td>1.4</td>\n",
       "      <td>0.2</td>\n",
       "    </tr>\n",
       "    <tr>\n",
       "      <th>1</th>\n",
       "      <td>4.9</td>\n",
       "      <td>3.0</td>\n",
       "      <td>1.4</td>\n",
       "      <td>0.2</td>\n",
       "    </tr>\n",
       "    <tr>\n",
       "      <th>2</th>\n",
       "      <td>4.7</td>\n",
       "      <td>3.2</td>\n",
       "      <td>1.3</td>\n",
       "      <td>0.2</td>\n",
       "    </tr>\n",
       "    <tr>\n",
       "      <th>3</th>\n",
       "      <td>4.6</td>\n",
       "      <td>3.1</td>\n",
       "      <td>1.5</td>\n",
       "      <td>0.2</td>\n",
       "    </tr>\n",
       "    <tr>\n",
       "      <th>4</th>\n",
       "      <td>5.0</td>\n",
       "      <td>3.6</td>\n",
       "      <td>1.4</td>\n",
       "      <td>0.2</td>\n",
       "    </tr>\n",
       "  </tbody>\n",
       "</table>\n",
       "</div>"
      ],
      "text/plain": [
       "   SepalLengthCm  SepalWidthCm  PetalLengthCm  PetalWidthCm\n",
       "0            5.1           3.5            1.4           0.2\n",
       "1            4.9           3.0            1.4           0.2\n",
       "2            4.7           3.2            1.3           0.2\n",
       "3            4.6           3.1            1.5           0.2\n",
       "4            5.0           3.6            1.4           0.2"
      ]
     },
     "execution_count": 13,
     "metadata": {},
     "output_type": "execute_result"
    }
   ],
   "source": [
    "X.head()\n"
   ]
  },
  {
   "cell_type": "code",
   "execution_count": 14,
   "metadata": {},
   "outputs": [
    {
     "data": {
      "text/html": [
       "<div>\n",
       "<style scoped>\n",
       "    .dataframe tbody tr th:only-of-type {\n",
       "        vertical-align: middle;\n",
       "    }\n",
       "\n",
       "    .dataframe tbody tr th {\n",
       "        vertical-align: top;\n",
       "    }\n",
       "\n",
       "    .dataframe thead th {\n",
       "        text-align: right;\n",
       "    }\n",
       "</style>\n",
       "<table border=\"1\" class=\"dataframe\">\n",
       "  <thead>\n",
       "    <tr style=\"text-align: right;\">\n",
       "      <th></th>\n",
       "      <th>Iris-setosa</th>\n",
       "      <th>Iris-versicolor</th>\n",
       "      <th>Iris-virginica</th>\n",
       "    </tr>\n",
       "  </thead>\n",
       "  <tbody>\n",
       "    <tr>\n",
       "      <th>0</th>\n",
       "      <td>1</td>\n",
       "      <td>0</td>\n",
       "      <td>0</td>\n",
       "    </tr>\n",
       "    <tr>\n",
       "      <th>1</th>\n",
       "      <td>1</td>\n",
       "      <td>0</td>\n",
       "      <td>0</td>\n",
       "    </tr>\n",
       "    <tr>\n",
       "      <th>2</th>\n",
       "      <td>1</td>\n",
       "      <td>0</td>\n",
       "      <td>0</td>\n",
       "    </tr>\n",
       "    <tr>\n",
       "      <th>3</th>\n",
       "      <td>1</td>\n",
       "      <td>0</td>\n",
       "      <td>0</td>\n",
       "    </tr>\n",
       "    <tr>\n",
       "      <th>4</th>\n",
       "      <td>1</td>\n",
       "      <td>0</td>\n",
       "      <td>0</td>\n",
       "    </tr>\n",
       "  </tbody>\n",
       "</table>\n",
       "</div>"
      ],
      "text/plain": [
       "   Iris-setosa  Iris-versicolor  Iris-virginica\n",
       "0            1                0               0\n",
       "1            1                0               0\n",
       "2            1                0               0\n",
       "3            1                0               0\n",
       "4            1                0               0"
      ]
     },
     "execution_count": 14,
     "metadata": {},
     "output_type": "execute_result"
    }
   ],
   "source": [
    "y.head()"
   ]
  },
  {
   "cell_type": "code",
   "execution_count": 15,
   "metadata": {},
   "outputs": [
    {
     "data": {
      "text/plain": [
       "pandas.core.frame.DataFrame"
      ]
     },
     "execution_count": 15,
     "metadata": {},
     "output_type": "execute_result"
    }
   ],
   "source": [
    "type(X)"
   ]
  },
  {
   "cell_type": "code",
   "execution_count": 16,
   "metadata": {},
   "outputs": [
    {
     "data": {
      "text/plain": [
       "pandas.core.frame.DataFrame"
      ]
     },
     "execution_count": 16,
     "metadata": {},
     "output_type": "execute_result"
    }
   ],
   "source": [
    "type(y)"
   ]
  },
  {
   "cell_type": "markdown",
   "metadata": {},
   "source": [
    "# Converting from pandas to Numpy "
   ]
  },
  {
   "cell_type": "code",
   "execution_count": 17,
   "metadata": {},
   "outputs": [],
   "source": [
    "X=X.values\n",
    "y=y.values\n"
   ]
  },
  {
   "cell_type": "code",
   "execution_count": 18,
   "metadata": {},
   "outputs": [
    {
     "data": {
      "text/plain": [
       "numpy.ndarray"
      ]
     },
     "execution_count": 18,
     "metadata": {},
     "output_type": "execute_result"
    }
   ],
   "source": [
    "type(X)"
   ]
  },
  {
   "cell_type": "code",
   "execution_count": 19,
   "metadata": {},
   "outputs": [
    {
     "data": {
      "text/plain": [
       "numpy.ndarray"
      ]
     },
     "execution_count": 19,
     "metadata": {},
     "output_type": "execute_result"
    }
   ],
   "source": [
    "type(y)"
   ]
  },
  {
   "cell_type": "markdown",
   "metadata": {},
   "source": [
    "# Spliting our data into training and testing"
   ]
  },
  {
   "cell_type": "code",
   "execution_count": 20,
   "metadata": {},
   "outputs": [],
   "source": [
    "from sklearn.model_selection import train_test_split\n"
   ]
  },
  {
   "cell_type": "code",
   "execution_count": 21,
   "metadata": {},
   "outputs": [],
   "source": [
    "X_train,X_test,y_train,y_test = train_test_split(X,y,test_size=0.2)"
   ]
  },
  {
   "cell_type": "markdown",
   "metadata": {},
   "source": [
    "# Creating our FeedForward Neural Network."
   ]
  },
  {
   "cell_type": "code",
   "execution_count": 22,
   "metadata": {},
   "outputs": [],
   "source": [
    "import tensorflow as tf\n",
    "from tensorflow.keras.layers import Dense,Dropout\n",
    "from tensorflow.keras.models import Sequential"
   ]
  },
  {
   "cell_type": "code",
   "execution_count": 23,
   "metadata": {},
   "outputs": [],
   "source": [
    "model = Sequential()\n",
    "model.add(Dense(units=128,activation='relu',input_dim=4))\n",
    "model.add(Dropout(0.2))\n",
    "model.add(Dense(units=100,activation='relu'))\n",
    "model.add(Dropout(0.2))\n",
    "model.add(Dense(units=3,activation='softmax'))"
   ]
  },
  {
   "cell_type": "code",
   "execution_count": 24,
   "metadata": {},
   "outputs": [],
   "source": [
    "model.compile(loss='mean_squared_error', optimizer='adam', metrics=['accuracy'])"
   ]
  },
  {
   "cell_type": "code",
   "execution_count": 25,
   "metadata": {},
   "outputs": [
    {
     "name": "stdout",
     "output_type": "stream",
     "text": [
      "(120, 4)\n",
      "(120, 3)\n"
     ]
    }
   ],
   "source": [
    "print(X_train.shape)\n",
    "print(y_train.shape)"
   ]
  },
  {
   "cell_type": "code",
   "execution_count": 26,
   "metadata": {},
   "outputs": [
    {
     "name": "stdout",
     "output_type": "stream",
     "text": [
      "Train on 120 samples\n",
      "Epoch 1/200\n",
      "120/120 [==============================] - 1s 7ms/sample - loss: 0.2524 - accuracy: 0.4083\n",
      "Epoch 2/200\n",
      "120/120 [==============================] - 0s 124us/sample - loss: 0.2080 - accuracy: 0.5083\n",
      "Epoch 3/200\n",
      "120/120 [==============================] - 0s 123us/sample - loss: 0.1840 - accuracy: 0.5583\n",
      "Epoch 4/200\n",
      "120/120 [==============================] - 0s 116us/sample - loss: 0.1801 - accuracy: 0.5667\n",
      "Epoch 5/200\n",
      "120/120 [==============================] - 0s 116us/sample - loss: 0.1603 - accuracy: 0.6333\n",
      "Epoch 6/200\n",
      "120/120 [==============================] - 0s 112us/sample - loss: 0.1381 - accuracy: 0.6750\n",
      "Epoch 7/200\n",
      "120/120 [==============================] - 0s 122us/sample - loss: 0.1446 - accuracy: 0.6500\n",
      "Epoch 8/200\n",
      "120/120 [==============================] - 0s 124us/sample - loss: 0.1292 - accuracy: 0.6750\n",
      "Epoch 9/200\n",
      "120/120 [==============================] - 0s 120us/sample - loss: 0.1206 - accuracy: 0.7083\n",
      "Epoch 10/200\n",
      "120/120 [==============================] - 0s 121us/sample - loss: 0.1253 - accuracy: 0.7083\n",
      "Epoch 11/200\n",
      "120/120 [==============================] - 0s 135us/sample - loss: 0.1069 - accuracy: 0.7667\n",
      "Epoch 12/200\n",
      "120/120 [==============================] - 0s 128us/sample - loss: 0.0955 - accuracy: 0.8000\n",
      "Epoch 13/200\n",
      "120/120 [==============================] - 0s 128us/sample - loss: 0.1073 - accuracy: 0.7500\n",
      "Epoch 14/200\n",
      "120/120 [==============================] - 0s 125us/sample - loss: 0.1024 - accuracy: 0.7417\n",
      "Epoch 15/200\n",
      "120/120 [==============================] - 0s 123us/sample - loss: 0.0981 - accuracy: 0.8083\n",
      "Epoch 16/200\n",
      "120/120 [==============================] - 0s 114us/sample - loss: 0.0909 - accuracy: 0.8000\n",
      "Epoch 17/200\n",
      "120/120 [==============================] - 0s 122us/sample - loss: 0.0992 - accuracy: 0.7917\n",
      "Epoch 18/200\n",
      "120/120 [==============================] - 0s 119us/sample - loss: 0.0847 - accuracy: 0.8250\n",
      "Epoch 19/200\n",
      "120/120 [==============================] - 0s 135us/sample - loss: 0.0866 - accuracy: 0.8167\n",
      "Epoch 20/200\n",
      "120/120 [==============================] - 0s 136us/sample - loss: 0.0830 - accuracy: 0.8417\n",
      "Epoch 21/200\n",
      "120/120 [==============================] - 0s 140us/sample - loss: 0.0730 - accuracy: 0.8667\n",
      "Epoch 22/200\n",
      "120/120 [==============================] - 0s 130us/sample - loss: 0.0732 - accuracy: 0.8583\n",
      "Epoch 23/200\n",
      "120/120 [==============================] - 0s 125us/sample - loss: 0.0610 - accuracy: 0.9000\n",
      "Epoch 24/200\n",
      "120/120 [==============================] - 0s 141us/sample - loss: 0.0709 - accuracy: 0.8750\n",
      "Epoch 25/200\n",
      "120/120 [==============================] - 0s 131us/sample - loss: 0.0602 - accuracy: 0.8917\n",
      "Epoch 26/200\n",
      "120/120 [==============================] - 0s 121us/sample - loss: 0.0625 - accuracy: 0.9000\n",
      "Epoch 27/200\n",
      "120/120 [==============================] - 0s 115us/sample - loss: 0.0614 - accuracy: 0.9083\n",
      "Epoch 28/200\n",
      "120/120 [==============================] - 0s 124us/sample - loss: 0.0618 - accuracy: 0.8917\n",
      "Epoch 29/200\n",
      "120/120 [==============================] - 0s 121us/sample - loss: 0.0528 - accuracy: 0.9167\n",
      "Epoch 30/200\n",
      "120/120 [==============================] - 0s 125us/sample - loss: 0.0504 - accuracy: 0.9250\n",
      "Epoch 31/200\n",
      "120/120 [==============================] - 0s 129us/sample - loss: 0.0494 - accuracy: 0.9083\n",
      "Epoch 32/200\n",
      "120/120 [==============================] - 0s 148us/sample - loss: 0.0488 - accuracy: 0.9250\n",
      "Epoch 33/200\n",
      "120/120 [==============================] - 0s 132us/sample - loss: 0.0487 - accuracy: 0.9250\n",
      "Epoch 34/200\n",
      "120/120 [==============================] - 0s 123us/sample - loss: 0.0619 - accuracy: 0.8917\n",
      "Epoch 35/200\n",
      "120/120 [==============================] - 0s 141us/sample - loss: 0.0529 - accuracy: 0.8833\n",
      "Epoch 36/200\n",
      "120/120 [==============================] - 0s 125us/sample - loss: 0.0508 - accuracy: 0.9083\n",
      "Epoch 37/200\n",
      "120/120 [==============================] - 0s 126us/sample - loss: 0.0410 - accuracy: 0.9500\n",
      "Epoch 38/200\n",
      "120/120 [==============================] - 0s 121us/sample - loss: 0.0457 - accuracy: 0.9000\n",
      "Epoch 39/200\n",
      "120/120 [==============================] - 0s 132us/sample - loss: 0.0416 - accuracy: 0.9250\n",
      "Epoch 40/200\n",
      "120/120 [==============================] - 0s 129us/sample - loss: 0.0389 - accuracy: 0.9250\n",
      "Epoch 41/200\n",
      "120/120 [==============================] - 0s 122us/sample - loss: 0.0387 - accuracy: 0.9500\n",
      "Epoch 42/200\n",
      "120/120 [==============================] - 0s 120us/sample - loss: 0.0389 - accuracy: 0.9250\n",
      "Epoch 43/200\n",
      "120/120 [==============================] - 0s 131us/sample - loss: 0.0448 - accuracy: 0.9167\n",
      "Epoch 44/200\n",
      "120/120 [==============================] - 0s 135us/sample - loss: 0.0337 - accuracy: 0.9500\n",
      "Epoch 45/200\n",
      "120/120 [==============================] - 0s 140us/sample - loss: 0.0274 - accuracy: 0.9750\n",
      "Epoch 46/200\n",
      "120/120 [==============================] - 0s 128us/sample - loss: 0.0337 - accuracy: 0.9333\n",
      "Epoch 47/200\n",
      "120/120 [==============================] - 0s 137us/sample - loss: 0.0403 - accuracy: 0.9333\n",
      "Epoch 48/200\n",
      "120/120 [==============================] - 0s 144us/sample - loss: 0.0312 - accuracy: 0.9583\n",
      "Epoch 49/200\n",
      "120/120 [==============================] - 0s 147us/sample - loss: 0.0376 - accuracy: 0.9333\n",
      "Epoch 50/200\n",
      "120/120 [==============================] - 0s 140us/sample - loss: 0.0300 - accuracy: 0.9500\n",
      "Epoch 51/200\n",
      "120/120 [==============================] - 0s 138us/sample - loss: 0.0345 - accuracy: 0.9333\n",
      "Epoch 52/200\n",
      "120/120 [==============================] - 0s 141us/sample - loss: 0.0387 - accuracy: 0.9083\n",
      "Epoch 53/200\n",
      "120/120 [==============================] - 0s 128us/sample - loss: 0.0298 - accuracy: 0.9500\n",
      "Epoch 54/200\n",
      "120/120 [==============================] - 0s 114us/sample - loss: 0.0329 - accuracy: 0.9333\n",
      "Epoch 55/200\n",
      "120/120 [==============================] - 0s 121us/sample - loss: 0.0274 - accuracy: 0.9583\n",
      "Epoch 56/200\n",
      "120/120 [==============================] - 0s 141us/sample - loss: 0.0396 - accuracy: 0.9083\n",
      "Epoch 57/200\n",
      "120/120 [==============================] - 0s 120us/sample - loss: 0.0402 - accuracy: 0.9250\n",
      "Epoch 58/200\n",
      "120/120 [==============================] - 0s 114us/sample - loss: 0.0287 - accuracy: 0.9750\n",
      "Epoch 59/200\n",
      "120/120 [==============================] - 0s 116us/sample - loss: 0.0275 - accuracy: 0.9667\n",
      "Epoch 60/200\n",
      "120/120 [==============================] - 0s 129us/sample - loss: 0.0247 - accuracy: 0.9500\n",
      "Epoch 61/200\n",
      "120/120 [==============================] - 0s 122us/sample - loss: 0.0320 - accuracy: 0.9250\n",
      "Epoch 62/200\n",
      "120/120 [==============================] - 0s 122us/sample - loss: 0.0333 - accuracy: 0.9417\n",
      "Epoch 63/200\n",
      "120/120 [==============================] - 0s 129us/sample - loss: 0.0293 - accuracy: 0.9583\n",
      "Epoch 64/200\n",
      "120/120 [==============================] - 0s 146us/sample - loss: 0.0279 - accuracy: 0.9583\n",
      "Epoch 65/200\n",
      "120/120 [==============================] - 0s 136us/sample - loss: 0.0266 - accuracy: 0.9583\n",
      "Epoch 66/200\n",
      "120/120 [==============================] - 0s 117us/sample - loss: 0.0270 - accuracy: 0.9583\n",
      "Epoch 67/200\n",
      "120/120 [==============================] - 0s 123us/sample - loss: 0.0226 - accuracy: 0.9500\n",
      "Epoch 68/200\n",
      "120/120 [==============================] - 0s 118us/sample - loss: 0.0304 - accuracy: 0.9250\n",
      "Epoch 69/200\n",
      "120/120 [==============================] - 0s 110us/sample - loss: 0.0316 - accuracy: 0.9333\n",
      "Epoch 70/200\n",
      "120/120 [==============================] - 0s 119us/sample - loss: 0.0211 - accuracy: 0.9750\n",
      "Epoch 71/200\n",
      "120/120 [==============================] - 0s 126us/sample - loss: 0.0228 - accuracy: 0.9750\n",
      "Epoch 72/200\n",
      "120/120 [==============================] - 0s 117us/sample - loss: 0.0231 - accuracy: 0.9583\n",
      "Epoch 73/200\n",
      "120/120 [==============================] - 0s 111us/sample - loss: 0.0278 - accuracy: 0.9417\n",
      "Epoch 74/200\n",
      "120/120 [==============================] - 0s 124us/sample - loss: 0.0254 - accuracy: 0.9583\n",
      "Epoch 75/200\n",
      "120/120 [==============================] - 0s 115us/sample - loss: 0.0261 - accuracy: 0.9417\n",
      "Epoch 76/200\n",
      "120/120 [==============================] - 0s 126us/sample - loss: 0.0234 - accuracy: 0.9583\n",
      "Epoch 77/200\n",
      "120/120 [==============================] - 0s 126us/sample - loss: 0.0224 - accuracy: 0.9583\n",
      "Epoch 78/200\n",
      "120/120 [==============================] - 0s 132us/sample - loss: 0.0255 - accuracy: 0.9417\n",
      "Epoch 79/200\n",
      "120/120 [==============================] - 0s 120us/sample - loss: 0.0212 - accuracy: 0.9667\n",
      "Epoch 80/200\n",
      "120/120 [==============================] - 0s 131us/sample - loss: 0.0219 - accuracy: 0.9667\n",
      "Epoch 81/200\n",
      "120/120 [==============================] - 0s 133us/sample - loss: 0.0188 - accuracy: 0.9750\n",
      "Epoch 82/200\n",
      "120/120 [==============================] - 0s 110us/sample - loss: 0.0248 - accuracy: 0.9583\n",
      "Epoch 83/200\n",
      "120/120 [==============================] - 0s 119us/sample - loss: 0.0251 - accuracy: 0.9500\n",
      "Epoch 84/200\n",
      "120/120 [==============================] - 0s 115us/sample - loss: 0.0255 - accuracy: 0.9333\n",
      "Epoch 85/200\n",
      "120/120 [==============================] - 0s 141us/sample - loss: 0.0210 - accuracy: 0.9583\n",
      "Epoch 86/200\n",
      "120/120 [==============================] - 0s 118us/sample - loss: 0.0226 - accuracy: 0.9583\n",
      "Epoch 87/200\n",
      "120/120 [==============================] - 0s 127us/sample - loss: 0.0209 - accuracy: 0.9667\n",
      "Epoch 88/200\n",
      "120/120 [==============================] - 0s 103us/sample - loss: 0.0229 - accuracy: 0.9750\n",
      "Epoch 89/200\n",
      "120/120 [==============================] - 0s 102us/sample - loss: 0.0279 - accuracy: 0.9417\n",
      "Epoch 90/200\n",
      "120/120 [==============================] - 0s 112us/sample - loss: 0.0253 - accuracy: 0.9500\n",
      "Epoch 91/200\n",
      "120/120 [==============================] - 0s 104us/sample - loss: 0.0236 - accuracy: 0.9583\n",
      "Epoch 92/200\n",
      "120/120 [==============================] - 0s 110us/sample - loss: 0.0194 - accuracy: 0.9750\n",
      "Epoch 93/200\n",
      "120/120 [==============================] - 0s 107us/sample - loss: 0.0198 - accuracy: 0.9583\n",
      "Epoch 94/200\n",
      "120/120 [==============================] - 0s 114us/sample - loss: 0.0197 - accuracy: 0.9667\n",
      "Epoch 95/200\n",
      "120/120 [==============================] - 0s 103us/sample - loss: 0.0227 - accuracy: 0.9583\n",
      "Epoch 96/200\n",
      "120/120 [==============================] - 0s 110us/sample - loss: 0.0257 - accuracy: 0.9333\n",
      "Epoch 97/200\n",
      "120/120 [==============================] - 0s 104us/sample - loss: 0.0189 - accuracy: 0.9583\n",
      "Epoch 98/200\n",
      "120/120 [==============================] - 0s 105us/sample - loss: 0.0245 - accuracy: 0.9417\n",
      "Epoch 99/200\n",
      "120/120 [==============================] - 0s 105us/sample - loss: 0.0208 - accuracy: 0.9667\n",
      "Epoch 100/200\n",
      "120/120 [==============================] - 0s 103us/sample - loss: 0.0181 - accuracy: 0.9667\n",
      "Epoch 101/200\n",
      "120/120 [==============================] - 0s 120us/sample - loss: 0.0234 - accuracy: 0.9500\n",
      "Epoch 102/200\n",
      "120/120 [==============================] - 0s 111us/sample - loss: 0.0230 - accuracy: 0.9500\n",
      "Epoch 103/200\n",
      "120/120 [==============================] - 0s 116us/sample - loss: 0.0204 - accuracy: 0.9667\n",
      "Epoch 104/200\n",
      "120/120 [==============================] - 0s 114us/sample - loss: 0.0213 - accuracy: 0.9500\n",
      "Epoch 105/200\n",
      "120/120 [==============================] - 0s 121us/sample - loss: 0.0133 - accuracy: 0.9917\n",
      "Epoch 106/200\n",
      "120/120 [==============================] - 0s 120us/sample - loss: 0.0145 - accuracy: 0.9833\n",
      "Epoch 107/200\n",
      "120/120 [==============================] - 0s 114us/sample - loss: 0.0162 - accuracy: 0.9917\n",
      "Epoch 108/200\n",
      "120/120 [==============================] - 0s 124us/sample - loss: 0.0211 - accuracy: 0.9667\n",
      "Epoch 109/200\n",
      "120/120 [==============================] - 0s 119us/sample - loss: 0.0184 - accuracy: 0.9583\n",
      "Epoch 110/200\n",
      "120/120 [==============================] - 0s 117us/sample - loss: 0.0255 - accuracy: 0.9583\n",
      "Epoch 111/200\n",
      "120/120 [==============================] - 0s 124us/sample - loss: 0.0218 - accuracy: 0.9750\n",
      "Epoch 112/200\n",
      "120/120 [==============================] - 0s 128us/sample - loss: 0.0192 - accuracy: 0.9667\n",
      "Epoch 113/200\n",
      "120/120 [==============================] - 0s 121us/sample - loss: 0.0243 - accuracy: 0.9500\n",
      "Epoch 114/200\n",
      "120/120 [==============================] - 0s 122us/sample - loss: 0.0215 - accuracy: 0.9667\n",
      "Epoch 115/200\n",
      "120/120 [==============================] - 0s 122us/sample - loss: 0.0187 - accuracy: 0.9583\n",
      "Epoch 116/200\n",
      "120/120 [==============================] - 0s 127us/sample - loss: 0.0189 - accuracy: 0.9583\n",
      "Epoch 117/200\n",
      "120/120 [==============================] - 0s 113us/sample - loss: 0.0185 - accuracy: 0.9750\n",
      "Epoch 118/200\n",
      "120/120 [==============================] - 0s 113us/sample - loss: 0.0227 - accuracy: 0.9583\n",
      "Epoch 119/200\n",
      "120/120 [==============================] - 0s 116us/sample - loss: 0.0180 - accuracy: 0.9667\n",
      "Epoch 120/200\n",
      "120/120 [==============================] - 0s 115us/sample - loss: 0.0184 - accuracy: 0.9583\n",
      "Epoch 121/200\n",
      "120/120 [==============================] - 0s 116us/sample - loss: 0.0203 - accuracy: 0.9750\n",
      "Epoch 122/200\n",
      "120/120 [==============================] - 0s 109us/sample - loss: 0.0237 - accuracy: 0.9583\n",
      "Epoch 123/200\n",
      "120/120 [==============================] - 0s 109us/sample - loss: 0.0175 - accuracy: 0.9750\n",
      "Epoch 124/200\n",
      "120/120 [==============================] - 0s 122us/sample - loss: 0.0216 - accuracy: 0.9667\n",
      "Epoch 125/200\n",
      "120/120 [==============================] - 0s 126us/sample - loss: 0.0203 - accuracy: 0.9750\n",
      "Epoch 126/200\n",
      "120/120 [==============================] - 0s 112us/sample - loss: 0.0215 - accuracy: 0.9417\n",
      "Epoch 127/200\n",
      "120/120 [==============================] - 0s 123us/sample - loss: 0.0212 - accuracy: 0.9667\n",
      "Epoch 128/200\n",
      "120/120 [==============================] - 0s 113us/sample - loss: 0.0174 - accuracy: 0.9750\n",
      "Epoch 129/200\n",
      "120/120 [==============================] - 0s 119us/sample - loss: 0.0187 - accuracy: 0.9750\n",
      "Epoch 130/200\n",
      "120/120 [==============================] - 0s 130us/sample - loss: 0.0153 - accuracy: 0.9833\n",
      "Epoch 131/200\n",
      "120/120 [==============================] - 0s 121us/sample - loss: 0.0167 - accuracy: 0.9833\n",
      "Epoch 132/200\n",
      "120/120 [==============================] - 0s 121us/sample - loss: 0.0215 - accuracy: 0.9667\n",
      "Epoch 133/200\n",
      "120/120 [==============================] - 0s 119us/sample - loss: 0.0206 - accuracy: 0.9500\n",
      "Epoch 134/200\n",
      "120/120 [==============================] - 0s 108us/sample - loss: 0.0190 - accuracy: 0.9667\n",
      "Epoch 135/200\n",
      "120/120 [==============================] - 0s 115us/sample - loss: 0.0196 - accuracy: 0.9583\n",
      "Epoch 136/200\n",
      "120/120 [==============================] - 0s 122us/sample - loss: 0.0138 - accuracy: 0.9917\n",
      "Epoch 137/200\n",
      "120/120 [==============================] - 0s 123us/sample - loss: 0.0163 - accuracy: 0.9667\n",
      "Epoch 138/200\n",
      "120/120 [==============================] - 0s 123us/sample - loss: 0.0151 - accuracy: 0.9750\n",
      "Epoch 139/200\n",
      "120/120 [==============================] - 0s 127us/sample - loss: 0.0148 - accuracy: 0.9750\n",
      "Epoch 140/200\n",
      "120/120 [==============================] - 0s 111us/sample - loss: 0.0160 - accuracy: 0.9667\n",
      "Epoch 141/200\n",
      "120/120 [==============================] - 0s 115us/sample - loss: 0.0216 - accuracy: 0.9583\n",
      "Epoch 142/200\n",
      "120/120 [==============================] - 0s 112us/sample - loss: 0.0190 - accuracy: 0.9667\n",
      "Epoch 143/200\n",
      "120/120 [==============================] - 0s 116us/sample - loss: 0.0199 - accuracy: 0.9750\n",
      "Epoch 144/200\n",
      "120/120 [==============================] - 0s 120us/sample - loss: 0.0177 - accuracy: 0.9667\n",
      "Epoch 145/200\n",
      "120/120 [==============================] - 0s 117us/sample - loss: 0.0192 - accuracy: 0.9583\n",
      "Epoch 146/200\n",
      "120/120 [==============================] - 0s 116us/sample - loss: 0.0205 - accuracy: 0.9583\n",
      "Epoch 147/200\n",
      "120/120 [==============================] - 0s 110us/sample - loss: 0.0181 - accuracy: 0.9667\n",
      "Epoch 148/200\n",
      "120/120 [==============================] - 0s 124us/sample - loss: 0.0170 - accuracy: 0.9750\n",
      "Epoch 149/200\n",
      "120/120 [==============================] - 0s 113us/sample - loss: 0.0129 - accuracy: 0.9833\n",
      "Epoch 150/200\n",
      "120/120 [==============================] - 0s 109us/sample - loss: 0.0140 - accuracy: 0.9667\n",
      "Epoch 151/200\n",
      "120/120 [==============================] - 0s 110us/sample - loss: 0.0178 - accuracy: 0.9667\n",
      "Epoch 152/200\n",
      "120/120 [==============================] - 0s 113us/sample - loss: 0.0159 - accuracy: 0.9667\n",
      "Epoch 153/200\n",
      "120/120 [==============================] - 0s 110us/sample - loss: 0.0142 - accuracy: 0.9833\n",
      "Epoch 154/200\n",
      "120/120 [==============================] - 0s 115us/sample - loss: 0.0186 - accuracy: 0.9667\n",
      "Epoch 155/200\n",
      "120/120 [==============================] - 0s 104us/sample - loss: 0.0169 - accuracy: 0.9750\n",
      "Epoch 156/200\n",
      "120/120 [==============================] - 0s 109us/sample - loss: 0.0162 - accuracy: 0.9750\n",
      "Epoch 157/200\n",
      "120/120 [==============================] - 0s 107us/sample - loss: 0.0145 - accuracy: 0.9667\n",
      "Epoch 158/200\n",
      "120/120 [==============================] - 0s 205us/sample - loss: 0.0174 - accuracy: 0.9750\n",
      "Epoch 159/200\n",
      "120/120 [==============================] - 0s 157us/sample - loss: 0.0184 - accuracy: 0.9583\n",
      "Epoch 160/200\n",
      "120/120 [==============================] - 0s 139us/sample - loss: 0.0183 - accuracy: 0.9750\n",
      "Epoch 161/200\n",
      "120/120 [==============================] - 0s 150us/sample - loss: 0.0130 - accuracy: 0.9833\n",
      "Epoch 162/200\n",
      "120/120 [==============================] - 0s 150us/sample - loss: 0.0189 - accuracy: 0.9667\n",
      "Epoch 163/200\n",
      "120/120 [==============================] - 0s 136us/sample - loss: 0.0220 - accuracy: 0.9417\n",
      "Epoch 164/200\n",
      "120/120 [==============================] - 0s 129us/sample - loss: 0.0161 - accuracy: 0.9667\n",
      "Epoch 165/200\n",
      "120/120 [==============================] - 0s 144us/sample - loss: 0.0182 - accuracy: 0.9750\n",
      "Epoch 166/200\n",
      "120/120 [==============================] - 0s 158us/sample - loss: 0.0211 - accuracy: 0.9667\n",
      "Epoch 167/200\n",
      "120/120 [==============================] - 0s 130us/sample - loss: 0.0156 - accuracy: 0.9667\n",
      "Epoch 168/200\n",
      "120/120 [==============================] - 0s 127us/sample - loss: 0.0152 - accuracy: 0.9833\n",
      "Epoch 169/200\n",
      "120/120 [==============================] - 0s 110us/sample - loss: 0.0126 - accuracy: 0.9833\n",
      "Epoch 170/200\n",
      "120/120 [==============================] - 0s 105us/sample - loss: 0.0220 - accuracy: 0.9583\n",
      "Epoch 171/200\n",
      "120/120 [==============================] - 0s 90us/sample - loss: 0.0154 - accuracy: 0.9667\n",
      "Epoch 172/200\n",
      "120/120 [==============================] - 0s 112us/sample - loss: 0.0218 - accuracy: 0.9500\n",
      "Epoch 173/200\n",
      "120/120 [==============================] - 0s 109us/sample - loss: 0.0196 - accuracy: 0.9583\n",
      "Epoch 174/200\n",
      "120/120 [==============================] - 0s 408us/sample - loss: 0.0132 - accuracy: 0.9750\n",
      "Epoch 175/200\n",
      "120/120 [==============================] - 0s 150us/sample - loss: 0.0171 - accuracy: 0.9667\n",
      "Epoch 176/200\n",
      "120/120 [==============================] - 0s 161us/sample - loss: 0.0182 - accuracy: 0.9667\n",
      "Epoch 177/200\n",
      "120/120 [==============================] - 0s 188us/sample - loss: 0.0157 - accuracy: 0.9750\n",
      "Epoch 178/200\n",
      "120/120 [==============================] - 0s 146us/sample - loss: 0.0145 - accuracy: 0.9750\n",
      "Epoch 179/200\n",
      "120/120 [==============================] - 0s 143us/sample - loss: 0.0183 - accuracy: 0.9667\n",
      "Epoch 180/200\n",
      "120/120 [==============================] - 0s 145us/sample - loss: 0.0193 - accuracy: 0.9667\n",
      "Epoch 181/200\n",
      "120/120 [==============================] - 0s 130us/sample - loss: 0.0113 - accuracy: 0.9917\n",
      "Epoch 182/200\n",
      "120/120 [==============================] - 0s 141us/sample - loss: 0.0144 - accuracy: 0.9750\n",
      "Epoch 183/200\n",
      "120/120 [==============================] - 0s 130us/sample - loss: 0.0183 - accuracy: 0.9667\n",
      "Epoch 184/200\n",
      "120/120 [==============================] - 0s 141us/sample - loss: 0.0159 - accuracy: 0.9750\n",
      "Epoch 185/200\n",
      "120/120 [==============================] - 0s 126us/sample - loss: 0.0132 - accuracy: 0.9750\n",
      "Epoch 186/200\n",
      "120/120 [==============================] - 0s 130us/sample - loss: 0.0152 - accuracy: 0.9833\n",
      "Epoch 187/200\n",
      "120/120 [==============================] - 0s 114us/sample - loss: 0.0152 - accuracy: 0.9750\n",
      "Epoch 188/200\n",
      "120/120 [==============================] - 0s 121us/sample - loss: 0.0139 - accuracy: 0.9833\n",
      "Epoch 189/200\n",
      "120/120 [==============================] - 0s 149us/sample - loss: 0.0146 - accuracy: 0.9833\n",
      "Epoch 190/200\n",
      "120/120 [==============================] - 0s 128us/sample - loss: 0.0120 - accuracy: 0.9833\n",
      "Epoch 191/200\n",
      "120/120 [==============================] - 0s 109us/sample - loss: 0.0179 - accuracy: 0.9667\n",
      "Epoch 192/200\n",
      "120/120 [==============================] - 0s 130us/sample - loss: 0.0122 - accuracy: 0.9750\n",
      "Epoch 193/200\n",
      "120/120 [==============================] - 0s 125us/sample - loss: 0.0127 - accuracy: 0.9833\n",
      "Epoch 194/200\n",
      "120/120 [==============================] - 0s 127us/sample - loss: 0.0150 - accuracy: 0.9750\n",
      "Epoch 195/200\n",
      "120/120 [==============================] - 0s 129us/sample - loss: 0.0169 - accuracy: 0.9500\n",
      "Epoch 196/200\n",
      "120/120 [==============================] - 0s 145us/sample - loss: 0.0155 - accuracy: 0.9667\n",
      "Epoch 197/200\n",
      "120/120 [==============================] - 0s 132us/sample - loss: 0.0151 - accuracy: 0.9667\n",
      "Epoch 198/200\n",
      "120/120 [==============================] - 0s 127us/sample - loss: 0.0167 - accuracy: 0.9667\n",
      "Epoch 199/200\n",
      "120/120 [==============================] - 0s 134us/sample - loss: 0.0200 - accuracy: 0.9667\n",
      "Epoch 200/200\n",
      "120/120 [==============================] - 0s 112us/sample - loss: 0.0142 - accuracy: 0.9750\n"
     ]
    },
    {
     "data": {
      "text/plain": [
       "<tensorflow.python.keras.callbacks.History at 0x7f127078a7b8>"
      ]
     },
     "execution_count": 26,
     "metadata": {},
     "output_type": "execute_result"
    }
   ],
   "source": [
    "model.fit(X_train,y_train,epochs=200)\n"
   ]
  },
  {
   "cell_type": "markdown",
   "metadata": {},
   "source": [
    "# Evaluating our Results"
   ]
  },
  {
   "cell_type": "code",
   "execution_count": 27,
   "metadata": {},
   "outputs": [],
   "source": [
    "from sklearn.metrics import confusion_matrix\n",
    "y_pred = model.predict(X_test)"
   ]
  },
  {
   "cell_type": "code",
   "execution_count": 28,
   "metadata": {},
   "outputs": [
    {
     "data": {
      "text/plain": [
       "array([[2.7613321e-03, 9.7445041e-01, 2.2788217e-02],\n",
       "       [3.1346521e-05, 6.6178508e-02, 9.3379009e-01],\n",
       "       [1.4462915e-05, 1.2649547e-02, 9.8733598e-01],\n",
       "       [4.8964527e-03, 9.9123585e-01, 3.8676197e-03],\n",
       "       [9.9902582e-01, 9.7422209e-04, 3.2840208e-10],\n",
       "       [3.8968796e-05, 2.5410660e-02, 9.7455037e-01],\n",
       "       [4.1589551e-03, 9.9194932e-01, 3.8917062e-03],\n",
       "       [9.9887508e-01, 1.1249112e-03, 3.6885503e-10],\n",
       "       [9.9969602e-01, 3.0404638e-04, 1.5081767e-11],\n",
       "       [9.9628037e-01, 3.7196230e-03, 7.0408475e-09],\n",
       "       [4.4545261e-03, 9.4136226e-01, 5.4183256e-02],\n",
       "       [2.0022426e-06, 7.8673586e-03, 9.9213058e-01],\n",
       "       [9.9859470e-01, 1.4053134e-03, 6.0931621e-10],\n",
       "       [9.9624050e-01, 3.7595013e-03, 7.0263320e-09],\n",
       "       [3.6747992e-06, 1.3133633e-02, 9.8686266e-01],\n",
       "       [5.9752068e-03, 9.6917379e-01, 2.4851039e-02],\n",
       "       [9.8930756e-03, 9.8741817e-01, 2.6887499e-03],\n",
       "       [9.9786830e-01, 2.1316307e-03, 3.1169880e-09],\n",
       "       [2.5870408e-05, 1.9265864e-02, 9.8070830e-01],\n",
       "       [9.9568862e-01, 4.3114279e-03, 6.3612817e-09],\n",
       "       [9.9880123e-01, 1.1987585e-03, 5.2292271e-10],\n",
       "       [3.1752957e-06, 4.9468507e-03, 9.9505001e-01],\n",
       "       [1.7434941e-05, 2.1726061e-02, 9.7825646e-01],\n",
       "       [9.9804097e-01, 1.9591046e-03, 8.3275425e-10],\n",
       "       [9.9941432e-01, 5.8568508e-04, 7.8153019e-11],\n",
       "       [1.7478319e-03, 9.8839337e-01, 9.8588727e-03],\n",
       "       [8.0882385e-03, 9.8602182e-01, 5.8899168e-03],\n",
       "       [8.2468912e-05, 7.3915772e-02, 9.2600173e-01],\n",
       "       [1.8338842e-04, 1.1292861e-01, 8.8688803e-01],\n",
       "       [9.9896932e-01, 1.0306520e-03, 3.5448730e-10]], dtype=float32)"
      ]
     },
     "execution_count": 28,
     "metadata": {},
     "output_type": "execute_result"
    }
   ],
   "source": [
    "y_pred\n"
   ]
  },
  {
   "cell_type": "code",
   "execution_count": 29,
   "metadata": {},
   "outputs": [
    {
     "data": {
      "text/plain": [
       "array([[0., 1., 0.],\n",
       "       [0., 0., 1.],\n",
       "       [0., 0., 1.],\n",
       "       [0., 1., 0.],\n",
       "       [1., 0., 0.],\n",
       "       [0., 0., 1.],\n",
       "       [0., 1., 0.],\n",
       "       [1., 0., 0.],\n",
       "       [1., 0., 0.],\n",
       "       [1., 0., 0.],\n",
       "       [0., 1., 0.],\n",
       "       [0., 0., 1.],\n",
       "       [1., 0., 0.],\n",
       "       [1., 0., 0.],\n",
       "       [0., 0., 1.],\n",
       "       [0., 1., 0.],\n",
       "       [0., 1., 0.],\n",
       "       [1., 0., 0.],\n",
       "       [0., 0., 1.],\n",
       "       [1., 0., 0.],\n",
       "       [1., 0., 0.],\n",
       "       [0., 0., 1.],\n",
       "       [0., 0., 1.],\n",
       "       [1., 0., 0.],\n",
       "       [1., 0., 0.],\n",
       "       [0., 1., 0.],\n",
       "       [0., 1., 0.],\n",
       "       [0., 0., 1.],\n",
       "       [0., 0., 1.],\n",
       "       [1., 0., 0.]], dtype=float32)"
      ]
     },
     "execution_count": 29,
     "metadata": {},
     "output_type": "execute_result"
    }
   ],
   "source": [
    "y_pred.round()\n"
   ]
  },
  {
   "cell_type": "code",
   "execution_count": 30,
   "metadata": {},
   "outputs": [
    {
     "data": {
      "text/plain": [
       "array([[0, 1, 0],\n",
       "       [0, 0, 1],\n",
       "       [0, 0, 1],\n",
       "       [0, 1, 0],\n",
       "       [1, 0, 0],\n",
       "       [0, 0, 1],\n",
       "       [0, 1, 0],\n",
       "       [1, 0, 0],\n",
       "       [1, 0, 0],\n",
       "       [1, 0, 0],\n",
       "       [0, 1, 0],\n",
       "       [0, 0, 1],\n",
       "       [1, 0, 0],\n",
       "       [1, 0, 0],\n",
       "       [0, 0, 1],\n",
       "       [0, 1, 0],\n",
       "       [0, 1, 0],\n",
       "       [1, 0, 0],\n",
       "       [0, 0, 1],\n",
       "       [1, 0, 0],\n",
       "       [1, 0, 0],\n",
       "       [0, 0, 1],\n",
       "       [0, 0, 1],\n",
       "       [1, 0, 0],\n",
       "       [1, 0, 0],\n",
       "       [0, 1, 0],\n",
       "       [0, 1, 0],\n",
       "       [0, 0, 1],\n",
       "       [0, 0, 1],\n",
       "       [1, 0, 0]], dtype=uint8)"
      ]
     },
     "execution_count": 30,
     "metadata": {},
     "output_type": "execute_result"
    }
   ],
   "source": [
    "y_test"
   ]
  },
  {
   "cell_type": "code",
   "execution_count": 31,
   "metadata": {},
   "outputs": [
    {
     "data": {
      "text/plain": [
       "array([[False,  True, False],\n",
       "       [False, False,  True],\n",
       "       [False, False,  True],\n",
       "       [False,  True, False],\n",
       "       [ True, False, False],\n",
       "       [False, False,  True],\n",
       "       [False,  True, False],\n",
       "       [ True, False, False],\n",
       "       [ True, False, False],\n",
       "       [ True, False, False],\n",
       "       [False,  True, False],\n",
       "       [False, False,  True],\n",
       "       [ True, False, False],\n",
       "       [ True, False, False],\n",
       "       [False, False,  True],\n",
       "       [False,  True, False],\n",
       "       [False,  True, False],\n",
       "       [ True, False, False],\n",
       "       [False, False,  True],\n",
       "       [ True, False, False],\n",
       "       [ True, False, False],\n",
       "       [False, False,  True],\n",
       "       [False, False,  True],\n",
       "       [ True, False, False],\n",
       "       [ True, False, False],\n",
       "       [False,  True, False],\n",
       "       [False,  True, False],\n",
       "       [False, False,  True],\n",
       "       [False, False,  True],\n",
       "       [ True, False, False]])"
      ]
     },
     "execution_count": 31,
     "metadata": {},
     "output_type": "execute_result"
    }
   ],
   "source": [
    "y_pred = (y_pred > 0.5) \n",
    "y_pred"
   ]
  },
  {
   "cell_type": "code",
   "execution_count": 32,
   "metadata": {},
   "outputs": [],
   "source": [
    "a=np.argmax(y_pred,axis=1)"
   ]
  },
  {
   "cell_type": "code",
   "execution_count": 33,
   "metadata": {},
   "outputs": [
    {
     "data": {
      "text/plain": [
       "array([1, 2, 2, 1, 0, 2, 1, 0, 0, 0, 1, 2, 0, 0, 2, 1, 1, 0, 2, 0, 0, 2,\n",
       "       2, 0, 0, 1, 1, 2, 2, 0])"
      ]
     },
     "execution_count": 33,
     "metadata": {},
     "output_type": "execute_result"
    }
   ],
   "source": [
    "a"
   ]
  },
  {
   "cell_type": "code",
   "execution_count": 34,
   "metadata": {},
   "outputs": [],
   "source": [
    "b=np.argmax(y_test,axis=1)\n"
   ]
  },
  {
   "cell_type": "code",
   "execution_count": 35,
   "metadata": {},
   "outputs": [
    {
     "data": {
      "text/plain": [
       "array([1, 2, 2, 1, 0, 2, 1, 0, 0, 0, 1, 2, 0, 0, 2, 1, 1, 0, 2, 0, 0, 2,\n",
       "       2, 0, 0, 1, 1, 2, 2, 0])"
      ]
     },
     "execution_count": 35,
     "metadata": {},
     "output_type": "execute_result"
    }
   ],
   "source": [
    "b"
   ]
  },
  {
   "cell_type": "code",
   "execution_count": 36,
   "metadata": {},
   "outputs": [],
   "source": [
    "cm = confusion_matrix(a,b)\n"
   ]
  },
  {
   "cell_type": "code",
   "execution_count": 37,
   "metadata": {},
   "outputs": [
    {
     "data": {
      "text/plain": [
       "array([[12,  0,  0],\n",
       "       [ 0,  8,  0],\n",
       "       [ 0,  0, 10]])"
      ]
     },
     "execution_count": 37,
     "metadata": {},
     "output_type": "execute_result"
    }
   ],
   "source": [
    "cm"
   ]
  },
  {
   "cell_type": "code",
   "execution_count": 38,
   "metadata": {},
   "outputs": [
    {
     "data": {
      "text/html": [
       "<div>\n",
       "<style scoped>\n",
       "    .dataframe tbody tr th:only-of-type {\n",
       "        vertical-align: middle;\n",
       "    }\n",
       "\n",
       "    .dataframe tbody tr th {\n",
       "        vertical-align: top;\n",
       "    }\n",
       "\n",
       "    .dataframe thead th {\n",
       "        text-align: right;\n",
       "    }\n",
       "</style>\n",
       "<table border=\"1\" class=\"dataframe\">\n",
       "  <thead>\n",
       "    <tr style=\"text-align: right;\">\n",
       "      <th></th>\n",
       "      <th>SepalLengthCm</th>\n",
       "      <th>SepalWidthCm</th>\n",
       "      <th>PetalLengthCm</th>\n",
       "      <th>PetalWidthCm</th>\n",
       "      <th>Iris-setosa</th>\n",
       "      <th>Iris-versicolor</th>\n",
       "      <th>Iris-virginica</th>\n",
       "    </tr>\n",
       "  </thead>\n",
       "  <tbody>\n",
       "    <tr>\n",
       "      <th>145</th>\n",
       "      <td>6.7</td>\n",
       "      <td>3.0</td>\n",
       "      <td>5.2</td>\n",
       "      <td>2.3</td>\n",
       "      <td>0</td>\n",
       "      <td>0</td>\n",
       "      <td>1</td>\n",
       "    </tr>\n",
       "    <tr>\n",
       "      <th>146</th>\n",
       "      <td>6.3</td>\n",
       "      <td>2.5</td>\n",
       "      <td>5.0</td>\n",
       "      <td>1.9</td>\n",
       "      <td>0</td>\n",
       "      <td>0</td>\n",
       "      <td>1</td>\n",
       "    </tr>\n",
       "    <tr>\n",
       "      <th>147</th>\n",
       "      <td>6.5</td>\n",
       "      <td>3.0</td>\n",
       "      <td>5.2</td>\n",
       "      <td>2.0</td>\n",
       "      <td>0</td>\n",
       "      <td>0</td>\n",
       "      <td>1</td>\n",
       "    </tr>\n",
       "    <tr>\n",
       "      <th>148</th>\n",
       "      <td>6.2</td>\n",
       "      <td>3.4</td>\n",
       "      <td>5.4</td>\n",
       "      <td>2.3</td>\n",
       "      <td>0</td>\n",
       "      <td>0</td>\n",
       "      <td>1</td>\n",
       "    </tr>\n",
       "    <tr>\n",
       "      <th>149</th>\n",
       "      <td>5.9</td>\n",
       "      <td>3.0</td>\n",
       "      <td>5.1</td>\n",
       "      <td>1.8</td>\n",
       "      <td>0</td>\n",
       "      <td>0</td>\n",
       "      <td>1</td>\n",
       "    </tr>\n",
       "  </tbody>\n",
       "</table>\n",
       "</div>"
      ],
      "text/plain": [
       "     SepalLengthCm  SepalWidthCm  PetalLengthCm  PetalWidthCm  Iris-setosa  \\\n",
       "145            6.7           3.0            5.2           2.3            0   \n",
       "146            6.3           2.5            5.0           1.9            0   \n",
       "147            6.5           3.0            5.2           2.0            0   \n",
       "148            6.2           3.4            5.4           2.3            0   \n",
       "149            5.9           3.0            5.1           1.8            0   \n",
       "\n",
       "     Iris-versicolor  Iris-virginica  \n",
       "145                0               1  \n",
       "146                0               1  \n",
       "147                0               1  \n",
       "148                0               1  \n",
       "149                0               1  "
      ]
     },
     "execution_count": 38,
     "metadata": {},
     "output_type": "execute_result"
    }
   ],
   "source": [
    "df.tail()"
   ]
  },
  {
   "cell_type": "code",
   "execution_count": 39,
   "metadata": {},
   "outputs": [
    {
     "data": {
      "text/plain": [
       "array([[0., 0., 1.]], dtype=float32)"
      ]
     },
     "execution_count": 39,
     "metadata": {},
     "output_type": "execute_result"
    }
   ],
   "source": [
    "model.predict([[5.9,3.0,5.1,1.8]]).round()\n"
   ]
  },
  {
   "cell_type": "code",
   "execution_count": 40,
   "metadata": {},
   "outputs": [],
   "source": [
    "model.save(\"iris.h5\")\n"
   ]
  },
  {
   "cell_type": "code",
   "execution_count": null,
   "metadata": {},
   "outputs": [],
   "source": []
  }
 ],
 "metadata": {
  "kernelspec": {
   "display_name": "Python 3",
   "language": "python",
   "name": "python3"
  },
  "language_info": {
   "codemirror_mode": {
    "name": "ipython",
    "version": 3
   },
   "file_extension": ".py",
   "mimetype": "text/x-python",
   "name": "python",
   "nbconvert_exporter": "python",
   "pygments_lexer": "ipython3",
   "version": "3.6.6"
  }
 },
 "nbformat": 4,
 "nbformat_minor": 1
}
